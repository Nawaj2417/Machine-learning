{
 "cells": [
  {
   "cell_type": "code",
   "execution_count": null,
   "id": "72d53d21-112f-4ffd-abcb-57195a51a608",
   "metadata": {},
   "outputs": [],
   "source": [
    "Define:\n",
    "    1. Artificial intelligence\n",
    "    2. machine learning\n",
    "    3. deep learning"
   ]
  },
  {
   "cell_type": "code",
   "execution_count": null,
   "id": "6a66af0f-f9ac-4fe8-8c86-dd9b8bc04769",
   "metadata": {},
   "outputs": [],
   "source": [
    "Ans:\n",
    "    1. Artificial intelligence: Artificial Intelligence (AI) is the development of computer systems that can perform tasks\n",
    "    that would typically require human intelligence, such as speech recognition, decision-making, and language translation.\n",
    "    One example of AI is self-driving cars, which use advanced algorithms and sensors to navigate roads and traffic without \n",
    "    human intervention.\n",
    "    \n",
    "    2. Machine Learning:  Machine learning is a subfield of AI that involves the development of algorithms that can learn\n",
    "    patterns from data, without being explicitly programmed. An example of machine learning is image recognition, where a\n",
    "    computer can be trained to recognize objects or faces in images by analyzing large datasets of labeled images.\n",
    "    \n",
    "    3. Deep Learning:  Deep learning is a subset of machine learning that uses neural networks with multiple layers to learn \n",
    "    and extract features from data. It is particularly useful for tasks such as natural language processing and image recognition.\n",
    "    An example of deep learning is the development of chatbots that can converse with humans using natural language, which requires\n",
    "    the computer to understand and generate language in a way that is similar to humans."
   ]
  },
  {
   "cell_type": "code",
   "execution_count": null,
   "id": "ef41ded6-2741-4222-b36a-ae2346db1427",
   "metadata": {},
   "outputs": [],
   "source": [
    "Q2- What is supervised learning? List some examples of supervised learning."
   ]
  },
  {
   "cell_type": "code",
   "execution_count": null,
   "id": "ac14a224-ecd9-49af-b7a8-9d3e0e09e375",
   "metadata": {},
   "outputs": [],
   "source": [
    "Ans: Supervised learning is a type of machine learning in which an alogorithm is trained on a labeled dataset, where the input data\n",
    "is paired with the correct output or target value.\n",
    "\n",
    "Some examples of supervised learning are image classification, speech recognition, fraud detection, spam filtering."
   ]
  },
  {
   "cell_type": "code",
   "execution_count": null,
   "id": "1e441a48-e332-4645-b2c0-440f78f4819a",
   "metadata": {},
   "outputs": [],
   "source": [
    "Q3. what is unsupervised learning? list some examples of unsupervised learning."
   ]
  },
  {
   "cell_type": "code",
   "execution_count": null,
   "id": "b1df7bf8-0f73-4aaa-a80e-afbb28657168",
   "metadata": {},
   "outputs": [],
   "source": [
    "Ans: Unsupervised learning is a type of machine learning where the algorithm learns from unlabeled data.\n",
    "In unsupervised learning, the model is not given any labels or targets to predict, and it must find the underlying patterns or\n",
    "structure in the data on its own.\n",
    "\n",
    "Some examples of unsupervised learning are clustering, association rule learning, generative models etc."
   ]
  },
  {
   "cell_type": "code",
   "execution_count": null,
   "id": "1d6f1d3a-562b-4af2-a720-c3d804f4fb0d",
   "metadata": {},
   "outputs": [],
   "source": [
    "Q4- What is the difference between AI, ML, DL, and DS?"
   ]
  },
  {
   "cell_type": "code",
   "execution_count": null,
   "id": "eeaf2eac-d748-4613-b56f-ec4c184b8339",
   "metadata": {},
   "outputs": [],
   "source": [
    "Ans: The difference between AI, ML, DL, and DS are  AI is the broader field that encompasses ML, which in turn includes DL,\n",
    "while DS is a separate but related field that uses various techniques, including ML, to extract insights from data."
   ]
  },
  {
   "cell_type": "code",
   "execution_count": null,
   "id": "ba05cbc1-dcb6-474c-a946-be8f2d94e414",
   "metadata": {},
   "outputs": [],
   "source": [
    "Q5. What is the difference between supervised, unsupervised and semi-supervised learning?"
   ]
  },
  {
   "cell_type": "code",
   "execution_count": null,
   "id": "f73ec9e2-1f55-464c-9627-4fe38f55de23",
   "metadata": {},
   "outputs": [],
   "source": [
    "Ans:  supervised learning requires labeled data with known output, unsupervised learning requires unlabeled data with no known \n",
    "output, and semi-supervised learning uses both labeled and unlabeled data to make predictions or discover patterns."
   ]
  },
  {
   "cell_type": "code",
   "execution_count": null,
   "id": "64f23166-f19b-4654-925a-cccd43b593a9",
   "metadata": {},
   "outputs": [],
   "source": [
    "Q6. What is train, test and validation split? Explain the importance of each term."
   ]
  },
  {
   "cell_type": "code",
   "execution_count": null,
   "id": "ed8a14ac-4474-42d8-8267-4a2f6d7a1ff7",
   "metadata": {},
   "outputs": [],
   "source": [
    "Training test: The training set is used to train the machine learning model.This is where the model learns the patterns and\n",
    "relationships between the input features and the output labels.It is important because it is where the machine learning model\n",
    "learns the patterns and relationships in the data.\n",
    "\n",
    "Testing set: It is used to evaluate the performance of the trained model. This is where the model is tested on a separate subset of the \n",
    "data that it has not seen during training.\n",
    "\n",
    "validation split:  it is used to fine-tune the model's hyperparameters. Choosing the right hyperparameters can significantly \n",
    "improve the performance of the model. By using a separate validation set, we can avoid overfitting the hyperparameters to the \n",
    "training data and improve the generalizability of the model."
   ]
  },
  {
   "cell_type": "code",
   "execution_count": null,
   "id": "2f523701-a1e9-4ea2-92bd-2bfd2ae88321",
   "metadata": {},
   "outputs": [],
   "source": [
    "Q7. How can unsupervised learning be used in anomaly detection?"
   ]
  },
  {
   "cell_type": "code",
   "execution_count": null,
   "id": "82c620d8-e8e0-4c54-9c17-f3ed7daedaa3",
   "metadata": {},
   "outputs": [],
   "source": [
    "Ans: Unsupervised learning can be used in anomaly detection by using techniques such as clustering, dimensionality\n",
    "reduction, and density estimation."
   ]
  },
  {
   "cell_type": "code",
   "execution_count": null,
   "id": "26814a8a-d9ff-4c0c-b941-12e3fbf4b490",
   "metadata": {},
   "outputs": [],
   "source": [
    "Q8. List down some commonly used supervised learning algorithms and unsupervised learning algorithms."
   ]
  },
  {
   "cell_type": "code",
   "execution_count": null,
   "id": "5911c1bb-e097-4657-bbe5-8eb7dc8dcca0",
   "metadata": {},
   "outputs": [],
   "source": [
    "Ans: Here are some commonly used supervised and unsupervised learning algorithms:\n",
    "\n",
    "Supervised Learning Algorithms:\n",
    "\n",
    "    Linear Regression\n",
    "    Logistic Regression\n",
    "    Decision Trees\n",
    "    Random Forests\n",
    "    Support Vector Machines (SVM)\n",
    "    Neural Networks\n",
    "    K-Nearest Neighbors (KNN)\n",
    "    Naive Bayes\n",
    "    Gradient Boosting\n",
    "\n",
    "Unsupervised Learning Algorithms:\n",
    "\n",
    "    K-Means Clustering\n",
    "    Hierarchical Clustering\n",
    "    Principal Component Analysis (PCA)\n",
    "    Independent Component Analysis (ICA)\n",
    "    Singular Value Decomposition (SVD)\n",
    "    Non-negative Matrix Factorization (NMF)\n",
    "    Apriori Algorithm for Association Rule Mining\n",
    "    DBSCAN Clustering Algorithm\n",
    "    Autoencoders for Dimensionality Reduction"
   ]
  }
 ],
 "metadata": {
  "kernelspec": {
   "display_name": "Python 3 (ipykernel)",
   "language": "python",
   "name": "python3"
  },
  "language_info": {
   "codemirror_mode": {
    "name": "ipython",
    "version": 3
   },
   "file_extension": ".py",
   "mimetype": "text/x-python",
   "name": "python",
   "nbconvert_exporter": "python",
   "pygments_lexer": "ipython3",
   "version": "3.10.6"
  }
 },
 "nbformat": 4,
 "nbformat_minor": 5
}
