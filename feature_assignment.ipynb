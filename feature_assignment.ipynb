{
 "cells": [
  {
   "cell_type": "code",
   "execution_count": null,
   "id": "5a46768a-7275-40a2-a75e-99e4af1dc0ff",
   "metadata": {},
   "outputs": [],
   "source": [
    "Q1. What is the Filter method in feature selection, and how does it work?"
   ]
  },
  {
   "cell_type": "code",
   "execution_count": null,
   "id": "badf68b2-3a16-4d5a-9502-2df698892a48",
   "metadata": {},
   "outputs": [],
   "source": [
    "JAns: The fileter method is a type of feature selection technique that evaluates the relevance of each feature independently of the\n",
    "others.\n",
    "The filter method works by applying a statistical measure to each feature in the dataset and ranking them according to their \n",
    "scores. Then, a threshold is set, and only the features with scores above the threshold are selected as relevant features.\n",
    "The threshold can be chosen based on a predefined criterion, such as a fixed number of features to select or a specific score \n",
    "value."
   ]
  },
  {
   "cell_type": "code",
   "execution_count": null,
   "id": "0c0317f6-7f5d-41f3-b311-a68564a14584",
   "metadata": {},
   "outputs": [],
   "source": [
    "Q2. How does the Wrapper method differ from the Filter method in feature selection?"
   ]
  },
  {
   "cell_type": "code",
   "execution_count": null,
   "id": "e0d51bd6-e6f2-4600-9acf-3c90b1778e24",
   "metadata": {},
   "outputs": [],
   "source": [
    "Ans: The  important difference between the Wrapper and Filter methods is that the Wrapper method is specific to a particular \n",
    "machine learning algorithm, while the Filter method is algorithm-independent. This means that the Wrapper method may select a\n",
    "different set of features for different machine learning algorithms, while the Filter method will select the same set of features\n",
    "regardless of the algorithm used."
   ]
  },
  {
   "cell_type": "code",
   "execution_count": null,
   "id": "55a5dc3b-b0d9-4ef4-b345-f1c3781bb2f0",
   "metadata": {},
   "outputs": [],
   "source": [
    "Q3. What are some common techniques used in Embedded feature selection methods?"
   ]
  },
  {
   "cell_type": "code",
   "execution_count": null,
   "id": "85e2992c-dfe8-4089-9d07-0b5ecc7e3b17",
   "metadata": {},
   "outputs": [],
   "source": [
    "Ans: Some common technique used in Embedded feature selection methods are:\n",
    "    1. Lasso regularization\n",
    "    2. Ridge regularization\n",
    "    3. Decision tree-based feature selection\n",
    "    4. Support vector machine based feature selection\n",
    "    5. Neural network based feature selection"
   ]
  },
  {
   "cell_type": "code",
   "execution_count": null,
   "id": "13eeca4c-700e-4588-aff5-e59298091e3f",
   "metadata": {},
   "outputs": [],
   "source": [
    "Q4. What are some drawbacks of using the Filter method for feature selection?"
   ]
  },
  {
   "cell_type": "code",
   "execution_count": null,
   "id": "5694e277-72e7-4022-8950-6c5578801b3f",
   "metadata": {},
   "outputs": [],
   "source": [
    "Ans: Some drawbacks of using the Filter method for feature selection are mentioned below:\n",
    "    1. Ignores feature dependencies\n",
    "    2. Assume linearity\n",
    "    3. Limited to statistical measures\n",
    "    4. Fixed feature subset\n",
    "    5. Doesnot consider the model"
   ]
  },
  {
   "cell_type": "code",
   "execution_count": null,
   "id": "63b592e1-30d5-4229-aee7-595116404825",
   "metadata": {},
   "outputs": [],
   "source": [
    "Q5. In which situations would you prefer using the Filter method over the Wrapper method for feature\n",
    "selection?"
   ]
  },
  {
   "cell_type": "code",
   "execution_count": null,
   "id": "f9aee786-6b1c-4ebd-8b9f-6ff45f65c001",
   "metadata": {},
   "outputs": [],
   "source": [
    "Ans: under following situations , filter method would prefer over the wrapper method for feature selection :\n",
    "    1. When dealing with large datasets where wrapper methods may be computationally expensive and time consuming.\n",
    "    2. When the goal is to quickly identify the most relevant features without considering interactions between them.\n",
    "    3. When there is a lack of domain knowledge about the relationships between features and the target variable, and a more \n",
    "       exploratory analysis is needed.\n",
    "    4. when there is a need to preprocess the data before applying the wrapper method, such as normalizing or standardizing the \n",
    "      features."
   ]
  },
  {
   "cell_type": "code",
   "execution_count": null,
   "id": "7651ef45-8693-41e0-9bdf-7ae54f326cf0",
   "metadata": {},
   "outputs": [],
   "source": [
    "Q6. In a telecom company, you are working on a project to develop a predictive model for customer churn.\n",
    "You are unsure of which features to include in the model because the dataset contains several different\n",
    "ones. Describe how you would choose the most pertinent attributes for the model using the Filter Method."
   ]
  },
  {
   "cell_type": "code",
   "execution_count": null,
   "id": "d90b6000-6e63-48f4-8732-fbe3996cef32",
   "metadata": {},
   "outputs": [],
   "source": [
    "Ans : The Filter method is a commonly used approach to feature selection in machine learning, where features are selected based on\n",
    "their stastical properties.\n",
    "somne of the most pertinent attributes for the model using the Filter method are mentioned below:\n",
    "    1. Define the objective\n",
    "    2. Preprocess the data.\n",
    "    3. Compute feature statistics\n",
    "    4. Select the top features\n",
    "    5. Test the model."
   ]
  },
  {
   "cell_type": "code",
   "execution_count": null,
   "id": "a2ecefe9-061f-4063-b70b-b5e84f32d814",
   "metadata": {},
   "outputs": [],
   "source": [
    "Q7. You are working on a project to predict the outcome of a soccer match. You have a large dataset with\n",
    "many features, including player statistics and team rankings. Explain how you would use the Embedded\n",
    "method to select the most relevant features for the model."
   ]
  },
  {
   "cell_type": "code",
   "execution_count": null,
   "id": "866611e2-bcbf-4ad6-8671-3dfcb2644ba3",
   "metadata": {},
   "outputs": [],
   "source": [
    "Ans: The Embeddede method is a type of feature selection technique that involves selecting the most relevant features during the model\n",
    "building process. \n",
    "To select the most relevant features for the model, we use following technique:\n",
    "    1. Select a model that supports feature selection.\n",
    "    2. Train the model with all feature.\n",
    "    3. Assess feature importance\n",
    "    4. Eliminate irrelavant features\n",
    "    5. Retrain the model with selected features."
   ]
  },
  {
   "cell_type": "code",
   "execution_count": null,
   "id": "acc261e3-bfbe-4944-9dd9-83fcf36e7a41",
   "metadata": {},
   "outputs": [],
   "source": [
    "Q8. You are working on a project to predict the price of a house based on its features, such as size, location,\n",
    "and age. You have a limited number of features, and you want to ensure that you select the most important\n",
    "ones for the model. Explain how you would use the Wrapper method to select the best set of features for the\n",
    "predictor."
   ]
  },
  {
   "cell_type": "code",
   "execution_count": null,
   "id": "94b39bed-cbf6-4bc9-abe0-657d4e01c9c5",
   "metadata": {},
   "outputs": [],
   "source": [
    "Ans: Wrapper method is a feature selection approach that uses a machine learning model to evaluate subsets of features and selects\n",
    "   the best performing subset.\n",
    "    \n",
    "    To select the best set of features for the predictor following should be used:\n",
    "        1. Define a performance metric\n",
    "        2. split your data\n",
    "        3. create a subset genertor\n",
    "        4. Train and evaluate your model\n",
    "        5. select the best subset\n",
    "        6. Evaluate the final model."
   ]
  }
 ],
 "metadata": {
  "kernelspec": {
   "display_name": "Python 3 (ipykernel)",
   "language": "python",
   "name": "python3"
  },
  "language_info": {
   "codemirror_mode": {
    "name": "ipython",
    "version": 3
   },
   "file_extension": ".py",
   "mimetype": "text/x-python",
   "name": "python",
   "nbconvert_exporter": "python",
   "pygments_lexer": "ipython3",
   "version": "3.10.6"
  }
 },
 "nbformat": 4,
 "nbformat_minor": 5
}
